{
 "cells": [
  {
   "cell_type": "code",
   "execution_count": 10,
   "metadata": {},
   "outputs": [
    {
     "name": "stdout",
     "output_type": "stream",
     "text": [
      "210\n"
     ]
    }
   ],
   "source": [
    "\"\"\" Assignment 1 - sum of n numbers with the help of while loop\"\"\"\n",
    "n=20\n",
    "sum=0\n",
    "while (n>0):\n",
    "    sum +=n\n",
    "    n -=1\n",
    "print(sum)    "
   ]
  },
  {
   "cell_type": "code",
   "execution_count": 17,
   "metadata": {},
   "outputs": [
    {
     "name": "stdout",
     "output_type": "stream",
     "text": [
      "Number 17 is Not prime Number\n"
     ]
    }
   ],
   "source": [
    "\"\"\"Assignment 2- Take an integer and find whether it is prime or not\"\"\"\n",
    "num=17\n",
    "if num % 2==0 :\n",
    "   print(\"Number\",num,\"is Prime Number\")\n",
    "else:\n",
    "   print(\"Number\",num,\"is Not prime Number\")\n",
    "     "
   ]
  }
 ],
 "metadata": {
  "kernelspec": {
   "display_name": "Python 3",
   "language": "python",
   "name": "python3"
  },
  "language_info": {
   "codemirror_mode": {
    "name": "ipython",
    "version": 3
   },
   "file_extension": ".py",
   "mimetype": "text/x-python",
   "name": "python",
   "nbconvert_exporter": "python",
   "pygments_lexer": "ipython3",
   "version": "3.7.6"
  }
 },
 "nbformat": 4,
 "nbformat_minor": 4
}
