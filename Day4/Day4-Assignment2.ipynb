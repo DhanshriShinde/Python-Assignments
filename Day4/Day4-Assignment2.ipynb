{
 "cells": [
  {
   "cell_type": "code",
   "execution_count": null,
   "metadata": {},
   "outputs": [],
   "source": [
    "\"\"\"issupper() and islower() both are in-built methods in python.\n",
    "\n",
    "1)String isupper() method\n",
    "  isipper() returns \"true if all charecters of the string are uppercase character.\n",
    "  syntax\n",
    "          string.isupper()\n",
    "return types: true- if all characters of the string are uppercase characters. \n",
    "false- if any of the characters is not in uppercase character.\"\"\"\n"
   ]
  },
  {
   "cell_type": "code",
   "execution_count": 1,
   "metadata": {},
   "outputs": [
    {
     "name": "stdout",
     "output_type": "stream",
     "text": [
      "False\n",
      "True\n",
      "False\n",
      "False\n"
     ]
    }
   ],
   "source": [
    "\n",
    "str1 = \"Dhanshri\"\n",
    "print(str1.isupper())\n",
    "str2 = \"DHANSHRI.SHINDE\"\n",
    "print(str2.isupper())\n",
    "str3 = \"DHANSHRI.shinde\"\n",
    "print(str3.isupper())\n",
    "str4 = \"dhanshri.shinde\"\n",
    "print(str4.isupper())"
   ]
  },
  {
   "cell_type": "code",
   "execution_count": null,
   "metadata": {},
   "outputs": [],
   "source": [
    "\"\"\"2)String islower() method\n",
    "  islower() returns \"true if all charecters of the string are lowercase character.\n",
    "  syntax\n",
    "\n",
    "string.islower()\n",
    "\n",
    "retuen types: true- if all characters of the string are lowercase characters. \n",
    "    false- if any of the characters is not in lowercase character.\"\"\""
   ]
  },
  {
   "cell_type": "code",
   "execution_count": 3,
   "metadata": {},
   "outputs": [
    {
     "name": "stdout",
     "output_type": "stream",
     "text": [
      "True\n",
      "True\n",
      "False\n",
      "False\n"
     ]
    }
   ],
   "source": [
    "str1 = \"dhanshri\"\n",
    "print(str1.islower())\n",
    "str2 = \"dhanshri.shinde\"\n",
    "print(str2.islower())\n",
    "str3 = \"dhanshri.SHINDE\"\n",
    "print(str3.islower())\n",
    "str4 = \"DHANSHRI.SHINDE\"\n",
    "print(str4.islower())"
   ]
  },
  {
   "cell_type": "code",
   "execution_count": null,
   "metadata": {},
   "outputs": [],
   "source": []
  }
 ],
 "metadata": {
  "kernelspec": {
   "display_name": "Python 3",
   "language": "python",
   "name": "python3"
  },
  "language_info": {
   "codemirror_mode": {
    "name": "ipython",
    "version": 3
   },
   "file_extension": ".py",
   "mimetype": "text/x-python",
   "name": "python",
   "nbconvert_exporter": "python",
   "pygments_lexer": "ipython3",
   "version": "3.7.6"
  }
 },
 "nbformat": 4,
 "nbformat_minor": 4
}
